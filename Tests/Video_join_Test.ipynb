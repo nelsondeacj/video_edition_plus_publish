{
 "cells": [
  {
   "cell_type": "code",
   "execution_count": 11,
   "metadata": {},
   "outputs": [],
   "source": [
    "from moviepy.editor import *\n",
    "import os\n",
    "from datetime import datetime\n",
    "import time\n",
    "import shutil\n"
   ]
  },
  {
   "cell_type": "code",
   "execution_count": 16,
   "metadata": {},
   "outputs": [],
   "source": [
    "def read_clips_folder(path,format=\"mp4\"):\n",
    "    files=os.listdir(path)\n",
    "    files_mp4=[f for f in files if (os.path.isfile(os.path.join(path, f)) and f.endswith('.mp4') )]\n",
    "    return files_mp4"
   ]
  },
  {
   "cell_type": "code",
   "execution_count": 23,
   "metadata": {},
   "outputs": [],
   "source": [
    "def agregate_videos(path,type_of_video=\"baby\",video_speed=0.9,num_of_videos=6):\n",
    "    files_mp4=read_clips_folder(path)\n",
    "    #how much videos we want for the final clip\n",
    "    #index of how much videos we have for the final clip\n",
    "    count_videos=0\n",
    "    clips_name_list=[]\n",
    "    old_name_list=[]\n",
    "    new_name_list=[]\n",
    "\n",
    "    #get actual day\n",
    "    now = datetime.now()\n",
    "    day_string = str(now.day)\n",
    "    month_string = str(now.month)\n",
    "    year_string = str(now.year)\n",
    "\n",
    "    final_video_number=0\n",
    "\n",
    "    for video in files_mp4:\n",
    "        print(video)        \n",
    "        count_videos+=1\n",
    "        clips_name_list.append(video)\n",
    "        if count_videos==num_of_videos:\n",
    "            final_video_number+=1\n",
    "            print(\"Recording video:\",final_video_number)\n",
    "            videoclips_list=[]\n",
    "\n",
    "            #create list with VideoFileClip objects\n",
    "            for i in range(count_videos):\n",
    "                old_name=os.path.join(path, clips_name_list[i])\n",
    "                old_name_list.append(old_name)\n",
    "                videoclips_list.append(VideoFileClip(old_name))\n",
    "\n",
    "                #insert _DONE at the end of file but before the \".\" like \".mp4\"\n",
    "                index_dot=clips_name_list[i].find(\".\")\n",
    "                video_format=clips_name_list[i][index_dot:]\n",
    "\n",
    "                # Get current time\n",
    "                now = datetime.now()\n",
    "                # Format the time as HHMMSS\n",
    "                current_time = now.strftime(\"%H%M%S\")\n",
    "\n",
    "                file_new_name=year_string+\"_\"+month_string+\"_\"+day_string+\"-\"+current_time+\"-\"+type_of_video+str(final_video_number)+str(i)+\"_DONE_\"+video_format\n",
    "                \n",
    "                new_name = os.path.join(path, file_new_name)\n",
    "                new_name_list.append(new_name)\n",
    "                # Rename the file\n",
    "\n",
    "            final_clip=concatenate_videoclips(videoclips_list)\n",
    "            # Get the dimensions of the video\n",
    "            clip_width, clip_height = final_clip.size\n",
    "            # Crop the bottom 50 pixels\n",
    "            cropped_clip = final_clip.crop(y1=0, y2=clip_height - 50)\n",
    "            #slow video\n",
    "            final_clip_slow=cropped_clip.fx(vfx.speedx,video_speed)\n",
    "\n",
    "            # Get current time\n",
    "            now = datetime.now()\n",
    "            # Format the time as HHMMSS\n",
    "            current_time = now.strftime(\"%H%M%S\")\n",
    "\n",
    "            final_clip_slow.write_videofile(\n",
    "                year_string+\"_\"+month_string+\"_\"+day_string+\"-\"+current_time+\"-Joined_\"+type_of_video+str(final_video_number)+video_format,\n",
    "                audio=False\n",
    "            )\n",
    "\n",
    "             # Close the video clips to release the files\n",
    "            for clip in videoclips_list:\n",
    "                clip.close()\n",
    "\n",
    "            #reseting lit and counts\n",
    "            clips_name_list=[]\n",
    "            count_videos=0\n",
    "\n",
    "            time.sleep(1)\n",
    "            \n",
    "\n",
    "    for i in range(len(new_name_list)):\n",
    "        #print(\"old_name\")\n",
    "        #print(old_name_list[i])\n",
    "        #print(\"new name\")\n",
    "        #print(new_name_list[i])\n",
    "        shutil.move(old_name_list[i],new_name_list[i])"
   ]
  },
  {
   "cell_type": "code",
   "execution_count": 24,
   "metadata": {},
   "outputs": [],
   "source": [
    "#parameters definition\n",
    "main_folder=\"Videos_Test_join\""
   ]
  },
  {
   "cell_type": "code",
   "execution_count": 25,
   "metadata": {},
   "outputs": [
    {
     "name": "stdout",
     "output_type": "stream",
     "text": [
      "joining videos in  Holidays\n",
      "2024_10_18-132739-Holidays10_DONE_.mp4\n",
      "2024_10_18-132739-Holidays11_DONE_.mp4\n",
      "2024_10_18-132739-Holidays12_DONE_.mp4\n",
      "2024_10_18-132739-Holidays13_DONE_.mp4\n",
      "2024_10_18-132740-Holidays14_DONE_.mp4\n",
      "2024_10_18-132740-Holidays15_DONE_.mp4\n",
      "Recording video: 1\n",
      "Moviepy - Building video 2024_10_18-132815-Joined_Holidays1.mp4.\n",
      "Moviepy - Writing video 2024_10_18-132815-Joined_Holidays1.mp4\n",
      "\n"
     ]
    },
    {
     "name": "stderr",
     "output_type": "stream",
     "text": [
      "                                                                 \r"
     ]
    },
    {
     "name": "stdout",
     "output_type": "stream",
     "text": [
      "Moviepy - Done !\n",
      "Moviepy - video ready 2024_10_18-132815-Joined_Holidays1.mp4\n",
      "VIDEO (8).mp4\n",
      "old_name\n",
      "Videos_Test_join\\Holidays\\2024_10_18-132739-Holidays10_DONE_.mp4\n",
      "new name\n",
      "Videos_Test_join\\Holidays\\2024_10_18-132815-Holidays10_DONE_.mp4\n",
      "old_name\n",
      "Videos_Test_join\\Holidays\\2024_10_18-132739-Holidays11_DONE_.mp4\n",
      "new name\n",
      "Videos_Test_join\\Holidays\\2024_10_18-132815-Holidays11_DONE_.mp4\n",
      "old_name\n",
      "Videos_Test_join\\Holidays\\2024_10_18-132739-Holidays12_DONE_.mp4\n",
      "new name\n",
      "Videos_Test_join\\Holidays\\2024_10_18-132815-Holidays12_DONE_.mp4\n",
      "old_name\n",
      "Videos_Test_join\\Holidays\\2024_10_18-132739-Holidays13_DONE_.mp4\n",
      "new name\n",
      "Videos_Test_join\\Holidays\\2024_10_18-132815-Holidays13_DONE_.mp4\n",
      "old_name\n",
      "Videos_Test_join\\Holidays\\2024_10_18-132740-Holidays14_DONE_.mp4\n",
      "new name\n",
      "Videos_Test_join\\Holidays\\2024_10_18-132815-Holidays14_DONE_.mp4\n",
      "old_name\n",
      "Videos_Test_join\\Holidays\\2024_10_18-132740-Holidays15_DONE_.mp4\n",
      "new name\n",
      "Videos_Test_join\\Holidays\\2024_10_18-132815-Holidays15_DONE_.mp4\n",
      "joining videos in  Holidays 2\n",
      "2024_10_18-131447-Holidays 216_DONE_.mp4\n",
      "2024_10_18-131448-Holidays 216_DONE_.mp4\n",
      "2024_10_18-132739-Holidays10_DONE_.mp4\n",
      "2024_10_18-132739-Holidays11_DONE_.mp4\n",
      "2024_10_18-132739-Holidays12_DONE_.mp4\n",
      "2024_10_18-132739-Holidays13_DONE_.mp4\n",
      "Recording video: 1\n",
      "Moviepy - Building video 2024_10_18-132825-Joined_Holidays 21.mp4.\n",
      "Moviepy - Writing video 2024_10_18-132825-Joined_Holidays 21.mp4\n",
      "\n"
     ]
    },
    {
     "name": "stderr",
     "output_type": "stream",
     "text": [
      "                                                                 \r"
     ]
    },
    {
     "name": "stdout",
     "output_type": "stream",
     "text": [
      "Moviepy - Done !\n",
      "Moviepy - video ready 2024_10_18-132825-Joined_Holidays 21.mp4\n",
      "2024_10_18-132740-Holidays14_DONE_.mp4\n",
      "2024_10_18-132740-Holidays15_DONE_.mp4\n",
      "VIDEO (8).mp4\n",
      "video1 (7).mp4\n",
      "video1 (8).mp4\n",
      "old_name\n",
      "Videos_Test_join\\Holidays 2\\2024_10_18-131447-Holidays 216_DONE_.mp4\n",
      "new name\n",
      "Videos_Test_join\\Holidays 2\\2024_10_18-132824-Holidays 210_DONE_.mp4\n",
      "old_name\n",
      "Videos_Test_join\\Holidays 2\\2024_10_18-131448-Holidays 216_DONE_.mp4\n",
      "new name\n",
      "Videos_Test_join\\Holidays 2\\2024_10_18-132824-Holidays 211_DONE_.mp4\n",
      "old_name\n",
      "Videos_Test_join\\Holidays 2\\2024_10_18-132739-Holidays10_DONE_.mp4\n",
      "new name\n",
      "Videos_Test_join\\Holidays 2\\2024_10_18-132824-Holidays 212_DONE_.mp4\n",
      "old_name\n",
      "Videos_Test_join\\Holidays 2\\2024_10_18-132739-Holidays11_DONE_.mp4\n",
      "new name\n",
      "Videos_Test_join\\Holidays 2\\2024_10_18-132824-Holidays 213_DONE_.mp4\n",
      "old_name\n",
      "Videos_Test_join\\Holidays 2\\2024_10_18-132739-Holidays12_DONE_.mp4\n",
      "new name\n",
      "Videos_Test_join\\Holidays 2\\2024_10_18-132825-Holidays 214_DONE_.mp4\n",
      "old_name\n",
      "Videos_Test_join\\Holidays 2\\2024_10_18-132739-Holidays13_DONE_.mp4\n",
      "new name\n",
      "Videos_Test_join\\Holidays 2\\2024_10_18-132825-Holidays 215_DONE_.mp4\n"
     ]
    }
   ],
   "source": [
    "folders=os.listdir(main_folder)\n",
    "for folder in folders:\n",
    "    new_path=os.path.join(main_folder, folder)\n",
    "    print(\"joining videos in \",folder)\n",
    "    agregate_videos(new_path,type_of_video=folder)\n"
   ]
  },
  {
   "cell_type": "code",
   "execution_count": 30,
   "metadata": {},
   "outputs": [],
   "source": []
  },
  {
   "cell_type": "code",
   "execution_count": null,
   "metadata": {},
   "outputs": [],
   "source": []
  }
 ],
 "metadata": {
  "kernelspec": {
   "display_name": "video_edit",
   "language": "python",
   "name": "python3"
  },
  "language_info": {
   "codemirror_mode": {
    "name": "ipython",
    "version": 3
   },
   "file_extension": ".py",
   "mimetype": "text/x-python",
   "name": "python",
   "nbconvert_exporter": "python",
   "pygments_lexer": "ipython3",
   "version": "3.13.0"
  }
 },
 "nbformat": 4,
 "nbformat_minor": 2
}
